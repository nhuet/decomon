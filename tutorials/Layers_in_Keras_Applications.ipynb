{
 "cells": [
  {
   "cell_type": "markdown",
   "id": "a031982f",
   "metadata": {},
   "source": [
    "# Use Decomon on a Keras applications model"
   ]
  },
  {
   "cell_type": "markdown",
   "id": "d226b424",
   "metadata": {},
   "source": [
    "Keras Applications are deep learning models that are made available alongside pre-trained weights. See [Keras documentation](https://keras.io/api/applications/) for further details and examples.\n",
    "\n",
    "In this notebook, we use decomon to certify bounds on the outputs of such a model."
   ]
  },
  {
   "cell_type": "code",
   "execution_count": null,
   "id": "31a564e7",
   "metadata": {},
   "outputs": [],
   "source": [
    "import json\n",
    "\n",
    "import tensorflow.keras.applications"
   ]
  },
  {
   "cell_type": "code",
   "execution_count": null,
   "id": "9ad23428",
   "metadata": {},
   "outputs": [],
   "source": [
    "keras_applications_model_factories = {\n",
    "    name: factory\n",
    "    for name, factory in vars(tensorflow.keras.applications).items()\n",
    "    if name[0].isupper()  # starts with uppercase\n",
    "}\n",
    "print(f\"We found {len(keras_applications_models)} different models.\")"
   ]
  },
  {
   "cell_type": "code",
   "execution_count": null,
   "id": "4621ac3b",
   "metadata": {},
   "outputs": [],
   "source": [
    "layer_types_by_model = {}\n",
    "all_layer_types = set()\n",
    "\n",
    "for model_name, model_factory in keras_applications_model_factories.items():\n",
    "    print(f\"** {model_name}\")\n",
    "\n",
    "    # instantiate a model (download it if necessary)\n",
    "    model = model_factory()\n",
    "\n",
    "    # list different layers inside it\n",
    "    layer_types_by_model[model_name] = set([type(layer) for layer in model.layers])\n",
    "    print({cls.__name__ for cls in layer_types_by_model[model_name]})\n",
    "\n",
    "    # update all layer types set\n",
    "    all_layer_types.update(layer_types_by_model[model_name])"
   ]
  },
  {
   "cell_type": "code",
   "execution_count": null,
   "id": "2d51efa8",
   "metadata": {},
   "outputs": [],
   "source": [
    "print({cls.__name__ for cls in all_layer_types})"
   ]
  },
  {
   "cell_type": "code",
   "execution_count": null,
   "id": "2bab829e",
   "metadata": {},
   "outputs": [],
   "source": [
    "layer_types_by_model_for_json = {\n",
    "    name: sorted([cls.__name__ for cls in layer_classes]) for name, layer_classes in layer_types_by_model.items()\n",
    "}\n",
    "\n",
    "all_layer_types_for_json = sorted([cls.__name__ for cls in all_layer_types])"
   ]
  },
  {
   "cell_type": "code",
   "execution_count": null,
   "id": "4c9efce9",
   "metadata": {},
   "outputs": [],
   "source": [
    "filepath_by_app = \"keras_applications_layers_by_app.json\"\n",
    "with open(filepath_by_app, \"wt\") as fd:\n",
    "    json.dump(layer_types_by_model_for_json, fd, indent=2)\n",
    "\n",
    "filepath_all_apps = \"keras_applications_layers_all_apps.json\"\n",
    "with open(filepath_all_apps, \"wt\") as fd:\n",
    "    json.dump(all_layer_types_for_json, fd, indent=2)"
   ]
  }
 ],
 "metadata": {
  "kernelspec": {
   "display_name": "Python 3 (ipykernel)",
   "language": "python",
   "name": "python3"
  },
  "language_info": {
   "codemirror_mode": {
    "name": "ipython",
    "version": 3
   },
   "file_extension": ".py",
   "mimetype": "text/x-python",
   "name": "python",
   "nbconvert_exporter": "python",
   "pygments_lexer": "ipython3",
   "version": "3.9.12"
  },
  "toc": {
   "base_numbering": 1,
   "nav_menu": {},
   "number_sections": true,
   "sideBar": true,
   "skip_h1_title": true,
   "title_cell": "Table of Contents",
   "title_sidebar": "Contents",
   "toc_cell": false,
   "toc_position": {},
   "toc_section_display": true,
   "toc_window_display": false
  }
 },
 "nbformat": 4,
 "nbformat_minor": 5
}
