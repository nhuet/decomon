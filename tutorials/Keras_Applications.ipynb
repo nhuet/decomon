{
 "cells": [
  {
   "cell_type": "markdown",
   "id": "a031982f",
   "metadata": {},
   "source": [
    "# Use Decomon on a Keras applications model"
   ]
  },
  {
   "cell_type": "markdown",
   "id": "d226b424",
   "metadata": {},
   "source": [
    "Keras Applications are deep learning models that are made available alongside pre-trained weights. See [Keras documentation](https://keras.io/api/applications/) for further details and examples.\n",
    "\n",
    "In this notebook, we use decomon to certify bounds on the outputs of such a model."
   ]
  },
  {
   "cell_type": "code",
   "execution_count": null,
   "id": "31a564e7",
   "metadata": {},
   "outputs": [],
   "source": [
    "import os\n",
    "\n",
    "import numpy as np\n",
    "from tensorflow.keras.applications.resnet50 import (\n",
    "    ResNet50,\n",
    "    decode_predictions,\n",
    "    preprocess_input,\n",
    ")\n",
    "from tensorflow.keras.preprocessing import image\n",
    "\n",
    "from decomon.models.convert import clone"
   ]
  },
  {
   "cell_type": "markdown",
   "id": "30dce0fa",
   "metadata": {},
   "source": [
    "## Use a Keras Applications Model"
   ]
  },
  {
   "cell_type": "markdown",
   "id": "0c0f9e37",
   "metadata": {},
   "source": [
    "### Initialize the model\n",
    "\n",
    "If not yet done, the model will be downloaded and cached for further use."
   ]
  },
  {
   "cell_type": "code",
   "execution_count": null,
   "id": "f78ec647",
   "metadata": {},
   "outputs": [],
   "source": [
    "model = ResNet50(weights=\"imagenet\")"
   ]
  },
  {
   "cell_type": "markdown",
   "id": "c71d5862",
   "metadata": {},
   "source": [
    "### Prepare an input for the model\n",
    "\n",
    "We download an image ans preprocess it to be feed to the model."
   ]
  },
  {
   "cell_type": "code",
   "execution_count": null,
   "id": "ad38537e",
   "metadata": {},
   "outputs": [],
   "source": [
    "# Get an elephant image if not yet existing\n",
    "img_path = \"elephant.jpg\"\n",
    "if not os.path.isfile(img_path):\n",
    "    !wget https://upload.wikimedia.org/wikipedia/commons/f/f9/Zoorashia_elephant.jpg -O {img_path}"
   ]
  },
  {
   "cell_type": "code",
   "execution_count": null,
   "id": "7eb65b05",
   "metadata": {},
   "outputs": [],
   "source": [
    "img = image.load_img(img_path, target_size=(224, 224))\n",
    "x = image.img_to_array(img)\n",
    "x = np.expand_dims(x, axis=0)\n",
    "x = preprocess_input(x)"
   ]
  },
  {
   "cell_type": "markdown",
   "id": "cd51069f",
   "metadata": {},
   "source": [
    "### Predict a label"
   ]
  },
  {
   "cell_type": "code",
   "execution_count": null,
   "id": "a4327457",
   "metadata": {},
   "outputs": [],
   "source": [
    "preds = model.predict(x)"
   ]
  },
  {
   "cell_type": "code",
   "execution_count": null,
   "id": "ffd4266e",
   "metadata": {},
   "outputs": [],
   "source": [
    "# decode the results into a list of tuples (class, description, probability)\n",
    "# (one such list for each sample in the batch)\n",
    "print(\"Predicted:\", decode_predictions(preds, top=3)[0])"
   ]
  },
  {
   "cell_type": "code",
   "execution_count": null,
   "id": "31b62bf4",
   "metadata": {},
   "outputs": [],
   "source": [
    "print(preds.shape)\n",
    "print(preds.min(), preds.max())"
   ]
  },
  {
   "cell_type": "markdown",
   "id": "1f316533",
   "metadata": {},
   "source": [
    "## Display underlying Keras model"
   ]
  },
  {
   "cell_type": "code",
   "execution_count": null,
   "id": "a67a1fe8",
   "metadata": {},
   "outputs": [],
   "source": [
    "set([type(layer) for layer in model.layers])"
   ]
  },
  {
   "cell_type": "markdown",
   "id": "855a2d4a",
   "metadata": {},
   "source": [
    "## Apply decomon"
   ]
  },
  {
   "cell_type": "markdown",
   "id": "87981e07",
   "metadata": {},
   "source": [
    "### Clone"
   ]
  },
  {
   "cell_type": "code",
   "execution_count": null,
   "id": "6b9d6318",
   "metadata": {},
   "outputs": [],
   "source": [
    "decomon_model = clone(model)"
   ]
  },
  {
   "cell_type": "code",
   "execution_count": null,
   "id": "36368e76",
   "metadata": {},
   "outputs": [],
   "source": []
  },
  {
   "cell_type": "code",
   "execution_count": null,
   "id": "6a68cd1a",
   "metadata": {},
   "outputs": [],
   "source": []
  }
 ],
 "metadata": {
  "kernelspec": {
   "display_name": "Python 3 (ipykernel)",
   "language": "python",
   "name": "python3"
  },
  "language_info": {
   "codemirror_mode": {
    "name": "ipython",
    "version": 3
   },
   "file_extension": ".py",
   "mimetype": "text/x-python",
   "name": "python",
   "nbconvert_exporter": "python",
   "pygments_lexer": "ipython3",
   "version": "3.9.12"
  },
  "toc": {
   "base_numbering": 1,
   "nav_menu": {},
   "number_sections": true,
   "sideBar": true,
   "skip_h1_title": true,
   "title_cell": "Table of Contents",
   "title_sidebar": "Contents",
   "toc_cell": false,
   "toc_position": {},
   "toc_section_display": true,
   "toc_window_display": false
  }
 },
 "nbformat": 4,
 "nbformat_minor": 5
}
